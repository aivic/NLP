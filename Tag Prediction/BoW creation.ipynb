{
 "cells": [
  {
   "cell_type": "code",
   "execution_count": 1,
   "metadata": {
    "collapsed": true
   },
   "outputs": [],
   "source": [
    "import numpy as np\n",
    "import pandas as pd\n",
    "import matplotlib.pyplot as plt\n",
    "%matplotlib inline\n",
    "import seaborn as sns"
   ]
  },
  {
   "cell_type": "markdown",
   "metadata": {},
   "source": [
    "## Reading file"
   ]
  },
  {
   "cell_type": "code",
   "execution_count": 2,
   "metadata": {
    "collapsed": true
   },
   "outputs": [],
   "source": [
    "orig = pd.read_csv(\"xhfile.csv\")"
   ]
  },
  {
   "cell_type": "code",
   "execution_count": 3,
   "metadata": {
    "collapsed": true
   },
   "outputs": [],
   "source": [
    "df = orig.iloc[:,[2,4,3]]"
   ]
  },
  {
   "cell_type": "code",
   "execution_count": 4,
   "metadata": {
    "collapsed": true
   },
   "outputs": [],
   "source": [
    "df.columns = [\"title\", \"desc\", \"tags\"]"
   ]
  },
  {
   "cell_type": "markdown",
   "metadata": {},
   "source": [
    "## Data preprocessing"
   ]
  },
  {
   "cell_type": "code",
   "execution_count": 5,
   "metadata": {},
   "outputs": [
    {
     "data": {
      "text/plain": [
       "(786121, 3)"
      ]
     },
     "execution_count": 5,
     "metadata": {},
     "output_type": "execute_result"
    }
   ],
   "source": [
    "df.shape"
   ]
  },
  {
   "cell_type": "markdown",
   "metadata": {},
   "source": [
    "#### percent of missing values in each column"
   ]
  },
  {
   "cell_type": "code",
   "execution_count": 6,
   "metadata": {},
   "outputs": [
    {
     "data": {
      "text/html": [
       "<div>\n",
       "<style>\n",
       "    .dataframe thead tr:only-child th {\n",
       "        text-align: right;\n",
       "    }\n",
       "\n",
       "    .dataframe thead th {\n",
       "        text-align: left;\n",
       "    }\n",
       "\n",
       "    .dataframe tbody tr th {\n",
       "        vertical-align: top;\n",
       "    }\n",
       "</style>\n",
       "<table border=\"1\" class=\"dataframe\">\n",
       "  <thead>\n",
       "    <tr style=\"text-align: right;\">\n",
       "      <th></th>\n",
       "      <th>Total</th>\n",
       "      <th>Percent</th>\n",
       "    </tr>\n",
       "  </thead>\n",
       "  <tbody>\n",
       "    <tr>\n",
       "      <th>desc</th>\n",
       "      <td>402746</td>\n",
       "      <td>0.512321</td>\n",
       "    </tr>\n",
       "    <tr>\n",
       "      <th>tags</th>\n",
       "      <td>1002</td>\n",
       "      <td>0.001275</td>\n",
       "    </tr>\n",
       "    <tr>\n",
       "      <th>title</th>\n",
       "      <td>792</td>\n",
       "      <td>0.001007</td>\n",
       "    </tr>\n",
       "  </tbody>\n",
       "</table>\n",
       "</div>"
      ],
      "text/plain": [
       "        Total   Percent\n",
       "desc   402746  0.512321\n",
       "tags     1002  0.001275\n",
       "title     792  0.001007"
      ]
     },
     "execution_count": 6,
     "metadata": {},
     "output_type": "execute_result"
    }
   ],
   "source": [
    "total = df.isnull().sum().sort_values(ascending=False)\n",
    "percent = (df.isnull().sum()/df.isnull().count()).sort_values(ascending=False)\n",
    "missing_data = pd.concat([total, percent], axis=1, keys=['Total', 'Percent'])\n",
    "missing_data"
   ]
  },
  {
   "cell_type": "markdown",
   "metadata": {},
   "source": [
    "#### how many are complete null rows"
   ]
  },
  {
   "cell_type": "code",
   "execution_count": 7,
   "metadata": {},
   "outputs": [
    {
     "data": {
      "text/html": [
       "<div>\n",
       "<style>\n",
       "    .dataframe thead tr:only-child th {\n",
       "        text-align: right;\n",
       "    }\n",
       "\n",
       "    .dataframe thead th {\n",
       "        text-align: left;\n",
       "    }\n",
       "\n",
       "    .dataframe tbody tr th {\n",
       "        vertical-align: top;\n",
       "    }\n",
       "</style>\n",
       "<table border=\"1\" class=\"dataframe\">\n",
       "  <thead>\n",
       "    <tr style=\"text-align: right;\">\n",
       "      <th></th>\n",
       "      <th>title</th>\n",
       "      <th>desc</th>\n",
       "      <th>tags</th>\n",
       "    </tr>\n",
       "  </thead>\n",
       "  <tbody>\n",
       "    <tr>\n",
       "      <th>239432</th>\n",
       "      <td>NaN</td>\n",
       "      <td>NaN</td>\n",
       "      <td>NaN</td>\n",
       "    </tr>\n",
       "  </tbody>\n",
       "</table>\n",
       "</div>"
      ],
      "text/plain": [
       "       title desc tags\n",
       "239432   NaN  NaN  NaN"
      ]
     },
     "execution_count": 7,
     "metadata": {},
     "output_type": "execute_result"
    }
   ],
   "source": [
    "df[df.isnull().all(axis = 1)] # just one"
   ]
  },
  {
   "cell_type": "code",
   "execution_count": 8,
   "metadata": {},
   "outputs": [
    {
     "data": {
      "text/plain": [
       "0"
      ]
     },
     "execution_count": 8,
     "metadata": {},
     "output_type": "execute_result"
    }
   ],
   "source": [
    "# removing it\n",
    "df = df.drop([239432])\n",
    "\n",
    "# verifying if dropped\n",
    "len(df[df.isnull().all(axis = 1)]) # yes"
   ]
  },
  {
   "cell_type": "markdown",
   "metadata": {},
   "source": [
    "#### removing rows with missing data: this will reduce the size of data to half as desc has almost 51% missing data."
   ]
  },
  {
   "cell_type": "code",
   "execution_count": 9,
   "metadata": {},
   "outputs": [
    {
     "name": "stdout",
     "output_type": "stream",
     "text": [
      "<class 'pandas.core.frame.DataFrame'>\n",
      "Int64Index: 383051 entries, 0 to 786116\n",
      "Data columns (total 3 columns):\n",
      "title    383051 non-null object\n",
      "desc     383051 non-null object\n",
      "tags     383051 non-null object\n",
      "dtypes: object(3)\n",
      "memory usage: 11.7+ MB\n"
     ]
    }
   ],
   "source": [
    "df = df[~df.isnull().any(axis = 1)] # just one\n",
    "df.info()"
   ]
  },
  {
   "cell_type": "markdown",
   "metadata": {},
   "source": [
    "#### checking for duplicates records"
   ]
  },
  {
   "cell_type": "code",
   "execution_count": 10,
   "metadata": {},
   "outputs": [
    {
     "data": {
      "text/plain": [
       "3958"
      ]
     },
     "execution_count": 10,
     "metadata": {},
     "output_type": "execute_result"
    }
   ],
   "source": [
    "len(df[df.duplicated()])"
   ]
  },
  {
   "cell_type": "markdown",
   "metadata": {},
   "source": [
    "#### dropping duplicate records"
   ]
  },
  {
   "cell_type": "code",
   "execution_count": 11,
   "metadata": {
    "scrolled": false
   },
   "outputs": [
    {
     "data": {
      "text/plain": [
       "0"
      ]
     },
     "execution_count": 11,
     "metadata": {},
     "output_type": "execute_result"
    }
   ],
   "source": [
    "df = df.drop_duplicates()\n",
    "len(df[df.duplicated()]) # no more duplicates"
   ]
  },
  {
   "cell_type": "code",
   "execution_count": 12,
   "metadata": {
    "collapsed": true
   },
   "outputs": [],
   "source": [
    "df = df.reset_index(drop=True)"
   ]
  },
  {
   "cell_type": "markdown",
   "metadata": {},
   "source": [
    "#### converting title and desc to lowercase and then checking for dups"
   ]
  },
  {
   "cell_type": "code",
   "execution_count": 13,
   "metadata": {
    "collapsed": true
   },
   "outputs": [],
   "source": [
    "df.title = df.title.str.lower()\n",
    "df.desc = df.desc.str.lower()"
   ]
  },
  {
   "cell_type": "code",
   "execution_count": 14,
   "metadata": {},
   "outputs": [
    {
     "data": {
      "text/plain": [
       "225"
      ]
     },
     "execution_count": 14,
     "metadata": {},
     "output_type": "execute_result"
    }
   ],
   "source": [
    "len(df[df.duplicated()]) "
   ]
  },
  {
   "cell_type": "code",
   "execution_count": 15,
   "metadata": {},
   "outputs": [
    {
     "data": {
      "text/plain": [
       "0"
      ]
     },
     "execution_count": 15,
     "metadata": {},
     "output_type": "execute_result"
    }
   ],
   "source": [
    "# dropping these 225 records\n",
    "df = df.drop_duplicates().reset_index(drop=True)\n",
    "len(df[df.duplicated()]) # no more duplicates"
   ]
  },
  {
   "cell_type": "markdown",
   "metadata": {},
   "source": [
    "#### converting string representation of list to list under tags column"
   ]
  },
  {
   "cell_type": "code",
   "execution_count": 16,
   "metadata": {
    "collapsed": true
   },
   "outputs": [],
   "source": [
    "import ast\n",
    "df.iloc[:,2] = df.iloc[:,2].apply(lambda x: ast.literal_eval(x))"
   ]
  },
  {
   "cell_type": "markdown",
   "metadata": {},
   "source": [
    "#### frequency of tags"
   ]
  },
  {
   "cell_type": "code",
   "execution_count": 17,
   "metadata": {
    "collapsed": true
   },
   "outputs": [],
   "source": [
    "taglst = []\n",
    "for i in range(df.iloc[:,2].count()):\n",
    "    for j in range(len(df.iloc[i,2])):\n",
    "        taglst.append(df.iloc[i,2][j])        "
   ]
  },
  {
   "cell_type": "code",
   "execution_count": 18,
   "metadata": {},
   "outputs": [
    {
     "data": {
      "text/plain": [
       "92"
      ]
     },
     "execution_count": 18,
     "metadata": {},
     "output_type": "execute_result"
    }
   ],
   "source": [
    "len(set(taglst)) # 92 unique records"
   ]
  },
  {
   "cell_type": "markdown",
   "metadata": {},
   "source": [
    "#### plot of highest frequent terms"
   ]
  },
  {
   "cell_type": "code",
   "execution_count": 19,
   "metadata": {
    "collapsed": true
   },
   "outputs": [],
   "source": [
    "val, cnt = np.unique(taglst, return_counts=True)\n",
    "idx = np.argsort(cnt)[::-1]"
   ]
  },
  {
   "cell_type": "code",
   "execution_count": 1,
   "metadata": {
    "collapsed": true
   },
   "outputs": [],
   "source": [
    "uf = pd.DataFrame([val[idx], cnt[idx]]).T.rename(columns=dict(zip(range(2), [\"Tags\",\"Hits\"])))"
   ]
  },
  {
   "cell_type": "code",
   "execution_count": 22,
   "metadata": {
    "collapsed": true
   },
   "outputs": [],
   "source": [
    "unifreq = pd.DataFrame([val[idx][:10], cnt[idx][:10]]).T\n",
    "unifreq.columns = [\"Tags\", \"Hits\"]"
   ]
  },
  {
   "cell_type": "code",
   "execution_count": 2,
   "metadata": {
    "collapsed": true
   },
   "outputs": [],
   "source": [
    "sns.barplot(x = \"Hits\", y = \"Tags\", \n",
    "            data = unifreq, palette=\"GnBu_d\")"
   ]
  },
  {
   "cell_type": "code",
   "execution_count": 24,
   "metadata": {},
   "outputs": [
    {
     "data": {
      "text/plain": [
       "<matplotlib.axes._subplots.AxesSubplot at 0xd0cb7fb400>"
      ]
     },
     "execution_count": 24,
     "metadata": {},
     "output_type": "execute_result"
    },
    {
     "data": {
      "image/png": "[encoded data removed]",
      "text/plain": [
       "<matplotlib.figure.Figure at 0xd0c867ad68>"
      ]
     },
     "metadata": {},
     "output_type": "display_data"
    }
   ],
   "source": [
    "sns.distplot(uf.Hits)"
   ]
  },
  {
   "cell_type": "markdown",
   "metadata": {},
   "source": [
    "## Splitting data into training, validation and testing portions (70:10:20)"
   ]
  },
  {
   "cell_type": "code",
   "execution_count": 25,
   "metadata": {
    "collapsed": true
   },
   "outputs": [],
   "source": [
    "np.random.seed(42)\n",
    "dfa, dfz, dfv = np.split(df.sample(frac=1), # 1 means complete data (100%)\n",
    "                         [int(.7*len(df)), int(.9*len(df))]) # 0.7% | 1-0.9 = 0.1% | 0.9-0.7=0.2%\n",
    "dfa = dfa.reset_index(drop=True)\n",
    "dfz = dfz.reset_index(drop=True)\n",
    "dfv = dfv.reset_index(drop=True)"
   ]
  },
  {
   "cell_type": "markdown",
   "metadata": {
    "collapsed": true
   },
   "source": [
    "#### Title association"
   ]
  },
  {
   "cell_type": "code",
   "execution_count": 26,
   "metadata": {
    "collapsed": true
   },
   "outputs": [],
   "source": [
    "from nltk.corpus import stopwords\n",
    "sw = list(stopwords.words('english'))"
   ]
  },
  {
   "cell_type": "code",
   "execution_count": 28,
   "metadata": {
    "collapsed": true
   },
   "outputs": [],
   "source": [
    "# removing Title stopwords and fetching all other words\n",
    "dfa.iloc[:,0] = dfa.iloc[:,0].apply(lambda x : \" \".join(item for item in x.split() if item not in sw))\n",
    "title = \"\"\n",
    "for i in range(dfa.title.count()):\n",
    "    title = title + \" \" + dfa.iloc[i,0]\n",
    "title = list(set(title.split()))\n",
    "\n",
    "# removing Desc stopwords and fetching all other words\n",
    "dfa.iloc[:,1] = dfa.iloc[:,1].apply(lambda x : \" \".join(item for item in x.split() if item not in sw))\n",
    "desc = \"\"\n",
    "for i in range(dfa.title.count()):\n",
    "    desc = desc + \" \" + dfa.iloc[i,1]\n",
    "desc = list(set(desc.split()))\n",
    "\n",
    "tdf = pd.DataFrame(\"\", index = range(len(desc)),columns=[\"Title words\",\"Desc words\",\"Associated tags\"])\n",
    "tdf.iloc[:len(title),0] = title\n",
    "tdf.iloc[:len(desc),1] = desc\n",
    "\n",
    "joint = list((set(tdf.iloc[:,0])) & (set(tdf.iloc[:,1])))\n",
    "union = list((set(tdf.iloc[:,0])) | (set(tdf.iloc[:,1])))\n",
    "tw = list((set(tdf.iloc[:,0])) - (set(tdf.iloc[:,1])))\n",
    "ds = list((set(tdf.iloc[:,1])) - (set(tdf.iloc[:,0])))"
   ]
  },
  {
   "cell_type": "code",
   "execution_count": 390,
   "metadata": {},
   "outputs": [
    {
     "name": "stdout",
     "output_type": "stream",
     "text": [
      "<class 'pandas.core.frame.DataFrame'>\n",
      "RangeIndex: 164403 entries, 0 to 164402\n",
      "Data columns (total 2 columns):\n",
      "Jword    164403 non-null object\n",
      "Tags     164403 non-null object\n",
      "dtypes: object(2)\n",
      "memory usage: 2.5+ MB\n"
     ]
    }
   ],
   "source": [
    "# joint words are not signifying that these words will appear in both title and desc in same row.\n",
    "\n",
    "# So finding the words which occurs together in both title and desc in same row\n",
    "jointdf = pd.DataFrame(\"0\", index = range(len(union)), columns = [\"Jword\", \"Tags\"])\n",
    "jointdf.info()"
   ]
  },
  {
   "cell_type": "code",
   "execution_count": 391,
   "metadata": {
    "collapsed": true
   },
   "outputs": [],
   "source": [
    "# code to bring intersection words between title and desc and corresponding tags\n",
    "\n",
    "import ast\n",
    "\n",
    "cnt = 0\n",
    "for i in range(0,dfa.shape[0]):\n",
    "    \n",
    "    # taking intersection and removing stopwords\n",
    "    wrd = list((set(dfa.iloc[i,0].split()) & set(dfa.iloc[i,1].split())) - set(sw))     \n",
    "    \n",
    "    if len(wrd) >= 1:\n",
    "        for j in range(len(wrd)):\n",
    "            \n",
    "            # CASE 1: When new word needs to be entered\n",
    "            \n",
    "            if wrd[j] not in list(jointdf.Jword):\n",
    "                \n",
    "                jointdf.iloc[cnt, 0] = wrd[j]           # feeding new word                \n",
    "                for k in range(len(dfa.iloc[i,2])):                    \n",
    "                    jointdf.iloc[cnt, 1] = jointdf.iloc[cnt, 1].replace(\"0\", str({dfa.iloc[i,2][k]:1}))\n",
    "                cnt += 1\n",
    "                \n",
    "            else:                \n",
    "                # finding the index of the present word\n",
    "                for k in range(jointdf.shape[0]):\n",
    "                    if wrd[j] == jointdf.iloc[k,0]:\n",
    "                        break                           # Hence, word is present at kth index\n",
    "                        \n",
    "                d = ast.literal_eval(jointdf.iloc[k,1]) # converting string representation of dict to dict                \n",
    "                \n",
    "                for g in range(len(dfa.iloc[i,2])):\n",
    "                    tag_present = 0                     # State; checking if tag already present or not                \n",
    "                    for key,v in d.items():                                                \n",
    "                        if dfa.iloc[i,2][g] == key:                            \n",
    "                            tag_present = 1\n",
    "                            break                    \n",
    "                    \n",
    "            # CASE 2: Word already there but a new keyword needs to be added rather than updating existing one                    \n",
    "                    \n",
    "                    if tag_present == 0:                        \n",
    "                        jointdf.iloc[k,1] = jointdf.iloc[k,1][:-1] + \",\" + str({dfa.iloc[i,2][g]:1})[1:]                         \n",
    "                    \n",
    "            # CASE 3: Updating the current tag occurence value\n",
    "            \n",
    "                    else:              \n",
    "                        d = ast.literal_eval(jointdf.iloc[k,1]) # converting latest dict\n",
    "                        d[dfa.iloc[i,2][g]] += 1                                                \n",
    "                        jointdf.iloc[k,1] = str(d)             "
   ]
  },
  {
   "cell_type": "code",
   "execution_count": 75,
   "metadata": {},
   "outputs": [
    {
     "name": "stdout",
     "output_type": "stream",
     "text": [
      "<class 'pandas.core.frame.DataFrame'>\n",
      "RangeIndex: 50000 entries, 0 to 49999\n",
      "Data columns (total 2 columns):\n",
      "Tword    50000 non-null object\n",
      "Tags     50000 non-null object\n",
      "dtypes: object(2)\n",
      "memory usage: 781.3+ KB\n"
     ]
    }
   ],
   "source": [
    "# ----------------------------- Words occuring only in title and their associated keywords ------------\n",
    "titledf = pd.DataFrame(\"0\", index = range(50000), columns = [\"Tword\", \"Tags\"])\n",
    "titledf.info()"
   ]
  },
  {
   "cell_type": "code",
   "execution_count": 94,
   "metadata": {
    "collapsed": true
   },
   "outputs": [],
   "source": [
    "# code to bring title words and corresponding tags\n",
    "\n",
    "import ast\n",
    "\n",
    "cnt = 50000\n",
    "for i in range(233900,dfa.shape[0]): #dfa.shape[0]\n",
    "    \n",
    "    # taking intersection and removing stopwords\n",
    "    wrd = list((set(dfa.iloc[i,0].split()) - set(dfa.iloc[i,1].split())) - set(sw))         \n",
    "    if \"0\" in wrd:\n",
    "        wrd.remove(\"0\")        \n",
    "    if len(wrd) >= 1:\n",
    "        for j in range(len(wrd)):\n",
    "            \n",
    "            # CASE 1: When new word needs to be entered\n",
    "            \n",
    "            if wrd[j] not in list(titledf.Tword):\n",
    "                \n",
    "                titledf.iloc[cnt, 0] = wrd[j]           # feeding new word                \n",
    "                for k in range(len(dfa.iloc[i,2])):                    \n",
    "                    titledf.iloc[cnt, 1] = titledf.iloc[cnt, 1].replace(\"0\", str({dfa.iloc[i,2][k]:1}))\n",
    "                cnt += 1\n",
    "                \n",
    "            else:                \n",
    "                # finding the index of the present word\n",
    "                for k in range(titledf.shape[0]):\n",
    "                    if wrd[j] == titledf.iloc[k,0]:\n",
    "                        break                           # Hence, word is present at kth index\n",
    "                        \n",
    "                d = ast.literal_eval(titledf.iloc[k,1]) # converting string representation of dict to dict                \n",
    "                \n",
    "                for g in range(len(dfa.iloc[i,2])):\n",
    "                    tag_present = 0                     # State; checking if tag already present or not                \n",
    "                    for key,v in d.items():                                                \n",
    "                        if dfa.iloc[i,2][g] == key:                            \n",
    "                            tag_present = 1\n",
    "                            break                    \n",
    "                    \n",
    "            # CASE 2: Word already there but a new keyword needs to be added rather than updating existing one                    \n",
    "                    \n",
    "                    if tag_present == 0:                        \n",
    "                        titledf.iloc[k,1] = titledf.iloc[k,1][:-1] + \",\" + str({dfa.iloc[i,2][g]:1})[1:]                         \n",
    "                    \n",
    "            # CASE 3: Updating the current tag occurence value\n",
    "            \n",
    "                    else:              \n",
    "                        d = ast.literal_eval(titledf.iloc[k,1]) # converting latest dict\n",
    "                        d[dfa.iloc[i,2][g]] += 1                                                \n",
    "                        titledf.iloc[k,1] = str(d)           "
   ]
  },
  {
   "cell_type": "code",
   "execution_count": 93,
   "metadata": {
    "collapsed": true
   },
   "outputs": [],
   "source": [
    "# Perform same for separate content words"
   ]
  }
 ],
 "metadata": {
  "kernelspec": {
   "display_name": "Python 3",
   "language": "python",
   "name": "python3"
  },
  "language_info": {
   "codemirror_mode": {
    "name": "ipython",
    "version": 3
   },
   "file_extension": ".py",
   "mimetype": "text/x-python",
   "name": "python",
   "nbconvert_exporter": "python",
   "pygments_lexer": "ipython3",
   "version": "3.6.1"
  }
 },
 "nbformat": 4,
 "nbformat_minor": 2
}
